{
 "cells": [
  {
   "cell_type": "code",
   "execution_count": 1,
   "metadata": {
    "executionInfo": {
     "elapsed": 832,
     "status": "ok",
     "timestamp": 1715440929572,
     "user": {
      "displayName": "Rituparna Chakraborty",
      "userId": "07793133911186586695"
     },
     "user_tz": -330
    },
    "id": "pJ1DRB57hz35"
   },
   "outputs": [],
   "source": [
    "import numpy as np\n",
    "import pandas as pd\n",
    "import scipy.stats as stats"
   ]
  },
  {
   "cell_type": "markdown",
   "metadata": {
    "id": "uqwPYR4JPSbU"
   },
   "source": [
    "# Question 5"
   ]
  },
  {
   "cell_type": "code",
   "execution_count": 2,
   "metadata": {
    "colab": {
     "base_uri": "https://localhost:8080/"
    },
    "executionInfo": {
     "elapsed": 19,
     "status": "ok",
     "timestamp": 1715440929574,
     "user": {
      "displayName": "Rituparna Chakraborty",
      "userId": "07793133911186586695"
     },
     "user_tz": -330
    },
    "id": "ueRxVWMsPgdY",
    "outputId": "2f952a7d-c50b-4b9d-c057-063a97cac38e"
   },
   "outputs": [
    {
     "name": "stdout",
     "output_type": "stream",
     "text": [
      "t_score 5.477225575051661\n",
      "t-critical 1.6991270265334972\n",
      "p-value 0.000003\n",
      "alpha 0.05\n"
     ]
    }
   ],
   "source": [
    "# Null hypothesis(Ho): mean of lifespan of light bulb =1000 hrs\n",
    "# Alternate Hypothesis (Ha): mean of lifespan of light bulb >1000 hrs ( as mentioned right tailed test)\n",
    "\n",
    "claim_population_mean=1000\n",
    "sample_mean=1050\n",
    "sample_std_dev=50\n",
    "sample_size=30 #(assumed)\n",
    "alpha=0.05\n",
    "\n",
    "t_score= (sample_mean-claim_population_mean)/(sample_std_dev/np.sqrt(sample_size))\n",
    "print(\"t_score\",t_score) #t_score 5.477225575051661\n",
    "\n",
    "t_critical_upper= stats.t.ppf(1-alpha, df=29) # as mentioned its a right tailed test hence considering upper t-critical value\n",
    "print(\"t-critical\",t_critical_upper) #t-critical 1.6991270265334972\n",
    "\n",
    "# as it is a right tailed test\n",
    "p_left= stats.t.cdf(t_score, df=29)\n",
    "p_right=1-p_left\n",
    "print(\"p-value\",\"{:f}\".format(p_right)) #p-value 0.000003\n",
    "print(\"alpha\", alpha)\n",
    "\n",
    "\n",
    "\n",
    "#as p<alpha and t_score > t_critical_upper\n",
    "#hence we  REJECT the null hypothesis; so there is evidence that average lifespan of light bulb is more than 1000 hrs"
   ]
  },
  {
   "cell_type": "markdown",
   "metadata": {
    "id": "nC8kShlIPvyc"
   },
   "source": [
    "# Question 7"
   ]
  },
  {
   "cell_type": "code",
   "execution_count": 3,
   "metadata": {
    "colab": {
     "base_uri": "https://localhost:8080/"
    },
    "executionInfo": {
     "elapsed": 11,
     "status": "ok",
     "timestamp": 1715440929574,
     "user": {
      "displayName": "Rituparna Chakraborty",
      "userId": "07793133911186586695"
     },
     "user_tz": -330
    },
    "id": "WwbqYBwmh_qg",
    "outputId": "201cba7b-5032-4bb7-a7e6-ea8cb91bbaf0"
   },
   "outputs": [
    {
     "name": "stdout",
     "output_type": "stream",
     "text": [
      "t_score -2.7386127875258306\n",
      "t-critical-upper 2.045229642132703\n",
      "t-critical-lower -2.0452296421327034\n",
      "p-value 0.01043738949886733\n",
      "alpha 0.05\n"
     ]
    }
   ],
   "source": [
    "# Question 7:\n",
    "\n",
    "# Null hypothesis(Ho): mean weight of cereal box =500 gms\n",
    "# Alternate Hypothesis (Ha): mean weight of cereal box !=500 gms (as it is a two tailed test)\n",
    "\n",
    "population_mean=500\n",
    "sample_mean=490\n",
    "sample_std_dev=20\n",
    "sample_size=30\n",
    "alpha=0.05\n",
    "\n",
    "t_score= (sample_mean-population_mean)/(sample_std_dev/np.sqrt(sample_size))\n",
    "print(\"t_score\",t_score) # t_score -2.7386127875258306\n",
    "\n",
    "t_critical_upper= stats.t.ppf(1-(alpha/2), df=29) # as 2 tailed test hence considering alpha/2\n",
    "print(\"t-critical-upper\",t_critical_upper)   #t-critical-upper 2.045229642132703\n",
    "\n",
    "t_critical_lower= stats.t.ppf(alpha/2, df=29)  # as 2 tailed test hence considering alpha/2\n",
    "print(\"t-critical-lower\",t_critical_lower) #t-critical-lower -2.0452296421327034\n",
    "\n",
    "#as it is 2-tailed test, for calculating the p value we need to consider the area under the curve at both tails, and hence multiply with 2\n",
    "#as we are considering here both the probabilities of mean weight being more than 500 and also less than 500\n",
    "p= 2*( stats.t.sf(np.abs(t_score), df=29))\n",
    "\n",
    "print(\"p-value\",p)\n",
    "print(\"alpha\", alpha) #p-value 0.01043738949886733\n",
    "\n",
    "\n",
    "\n",
    "\n",
    "#as p<alpha and t_score < t_critical_lower\n",
    "#hence we  REJECT the null hypothesis; so there is evidence that mean weight of cereal box is not equal to 500 gms"
   ]
  },
  {
   "cell_type": "markdown",
   "metadata": {
    "id": "4i-f4bXyP8Zq"
   },
   "source": [
    "# Question 8"
   ]
  },
  {
   "cell_type": "code",
   "execution_count": 4,
   "metadata": {
    "colab": {
     "base_uri": "https://localhost:8080/"
    },
    "executionInfo": {
     "elapsed": 9,
     "status": "ok",
     "timestamp": 1715440929575,
     "user": {
      "displayName": "Rituparna Chakraborty",
      "userId": "07793133911186586695"
     },
     "user_tz": -330
    },
    "id": "xqvV6hvKlf6H",
    "outputId": "c5311935-f80a-4d21-fe02-0b36d381d5b8"
   },
   "outputs": [
    {
     "name": "stdout",
     "output_type": "stream",
     "text": [
      "t_score 2.2007211163012688\n",
      "t-critical-upper 2.656145029762259\n",
      "t-critical-lower -2.6561450297622597\n",
      "p-value 0.031428932719199214\n",
      "alpha 0.01\n"
     ]
    }
   ],
   "source": [
    "# Question 8:\n",
    "\n",
    "# Null hypothesis(Ho): difference in  mean reaction time of group A and group B =0 (poulation mean reaction times are equal)\n",
    "# Alternate Hypothesis (Ha): difference in  mean reaction time of group A and group B !=0 (there is a significant difference in population mean reaction times)\n",
    "\n",
    "sample_mean_a=0.6\n",
    "std_dev_a=0.1\n",
    "sample_size_a=30 #(assumed)\n",
    "\n",
    "sample_mean_b=0.55\n",
    "std_dev_b=0.08\n",
    "sample_size_b=35 #(assumed)\n",
    "\n",
    "degrees_of_freedom=sample_size_a+sample_size_b-2\n",
    "alpha=0.01\n",
    "\n",
    "t_score= (sample_mean_a-sample_mean_b)/(np.sqrt((std_dev_a**2/sample_size_a) + (std_dev_b**2/sample_size_b)))\n",
    "print(\"t_score\",t_score) # t_score 2.2007211163012688\n",
    "\n",
    "\n",
    "t_critical_upper= stats.t.ppf(1-(alpha/2), df=degrees_of_freedom)  # as 2 tailed test hence considering alpha/2\n",
    "print(\"t-critical-upper\",t_critical_upper)  # t-critical-upper 2.656145029762259\n",
    "\n",
    "t_critical_lower= stats.t.ppf(alpha/2, df=degrees_of_freedom)  # as 2 tailed test hence considering alpha/2\n",
    "print(\"t-critical-lower\",t_critical_lower) # t-critical-lower -2.6561450297622597\n",
    "\n",
    "#as it is 2-tailed test, for calculating the p value we need to consider the area under the curve at both tails, and hence multiply with 2\n",
    "p=2*( stats.t.sf(np.abs(t_score), df=degrees_of_freedom))\n",
    "print(\"p-value\",p)  # p-value 0.031428932719199214\n",
    "print(\"alpha\", alpha)\n",
    "\n",
    "\n",
    "# as p>alpha and  t-critical-lower<t_score<t-critical-upper; i.e. t_score lies within acceptance region between t-critical_lower and t-critical-upper\n",
    "\n",
    "# hence we FAIL to REJECT  null hypothesis; so there is evidence that there is no difference in mean reaction time of both group A and group B\n",
    "\n"
   ]
  },
  {
   "cell_type": "markdown",
   "metadata": {
    "id": "ihN2BtYPQBUf"
   },
   "source": [
    "# Question 9"
   ]
  },
  {
   "cell_type": "code",
   "execution_count": 5,
   "metadata": {
    "colab": {
     "base_uri": "https://localhost:8080/"
    },
    "executionInfo": {
     "elapsed": 31,
     "status": "ok",
     "timestamp": 1715440931164,
     "user": {
      "displayName": "Rituparna Chakraborty",
      "userId": "07793133911186586695"
     },
     "user_tz": -330
    },
    "id": "4akt2SdKgOnX",
    "outputId": "e7c0b76a-5ec5-41d3-aad1-9ff03667e431"
   },
   "outputs": [
    {
     "name": "stdout",
     "output_type": "stream",
     "text": [
      "t_score -3.9528470752104745\n",
      "t-critical -1.6848751194974\n",
      "p-value 0.0001576181611283905\n",
      "alpha 0.05\n"
     ]
    }
   ],
   "source": [
    "#Question 9:\n",
    "\n",
    "# Null Hypothesis (Ho): the mean  waiting times of calls after the program =4.5\n",
    "# Alternate Hypothesis (Ha):  the mean  waiting times of calls after the program < 4.5\n",
    "#( as mentioned to check if the waiting time has reduced, hence left tailed test is to be conducted)\n",
    "\n",
    "claim_population_mean=4.5\n",
    "sample_mean=4.0\n",
    "sample_std_dev=0.8\n",
    "sample_size=40 #(assumed)\n",
    "alpha=0.05\n",
    "\n",
    "t_score= (sample_mean-claim_population_mean)/(sample_std_dev/np.sqrt(sample_size))\n",
    "print(\"t_score\",t_score) #t_score: -3.9528470752104745\n",
    "\n",
    "t_critical_lower=  stats.t.ppf(alpha, df=39) # as  its a left tailed test hence considering lower t-critical value\n",
    "print(\"t-critical\",t_critical_lower) #t-critical: -3.9528470752104745\n",
    "\n",
    "# as it  is a left tailed test\n",
    "p_left= stats.t.cdf(t_score, df=39) #p-value: 0.0001576181611283905\n",
    "print(\"p-value\",p_left)\n",
    "print(\"alpha\", alpha)\n",
    "\n",
    "\n",
    "#as p_left<alpha  and t_score < t_critical_lower\n",
    "#hence we  REJECT the null hypothesis; so there is evidence that average times of calls have reduced after the training program"
   ]
  }
 ],
 "metadata": {
  "colab": {
   "authorship_tag": "ABX9TyN3jnt10h5wSrH0GkIVucAb",
   "provenance": []
  },
  "kernelspec": {
   "display_name": "Python 3 (ipykernel)",
   "language": "python",
   "name": "python3"
  },
  "language_info": {
   "codemirror_mode": {
    "name": "ipython",
    "version": 3
   },
   "file_extension": ".py",
   "mimetype": "text/x-python",
   "name": "python",
   "nbconvert_exporter": "python",
   "pygments_lexer": "ipython3",
   "version": "3.10.12"
  }
 },
 "nbformat": 4,
 "nbformat_minor": 4
}
